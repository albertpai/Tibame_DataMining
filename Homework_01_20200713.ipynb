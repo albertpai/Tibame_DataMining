{
  "nbformat": 4,
  "nbformat_minor": 0,
  "metadata": {
    "colab": {
      "name": "Homework_01_20200713.ipynb",
      "provenance": [],
      "collapsed_sections": [],
      "authorship_tag": "ABX9TyNMpcnbQ2Iqi6BOhUYSHYj0",
      "include_colab_link": true
    },
    "kernelspec": {
      "name": "python3",
      "display_name": "Python 3"
    }
  },
  "cells": [
    {
      "cell_type": "markdown",
      "metadata": {
        "id": "view-in-github",
        "colab_type": "text"
      },
      "source": [
        "<a href=\"https://colab.research.google.com/github/albertpai/Tibame_DataMining/blob/master/Homework_01_20200713.ipynb\" target=\"_parent\"><img src=\"https://colab.research.google.com/assets/colab-badge.svg\" alt=\"Open In Colab\"/></a>"
      ]
    },
    {
      "cell_type": "markdown",
      "metadata": {
        "id": "vhiLl-nNaaO5",
        "colab_type": "text"
      },
      "source": [
        "##解析PTT信用卡版面，第一頁"
      ]
    },
    {
      "cell_type": "code",
      "metadata": {
        "id": "ZjlH8Dh4IL-e",
        "colab_type": "code",
        "colab": {
          "base_uri": "https://localhost:8080/",
          "height": 196
        },
        "outputId": "456f1a3c-20a5-4add-f391-307c9adb6a2e"
      },
      "source": [
        "import requests\n",
        "headers = {'User-Agent': 'Mozilla/5.0 (Windows NT 10.0; Win64; x64) AppleWebKit/537.36 (KHTML, like Gecko) Chrome/83.0.4103.116 Safari/537.36'\n",
        "}\n",
        "# 抓取頁面資訊\n",
        "res = requests.get('https://www.ptt.cc/bbs/creditcard/index.html', headers = headers)\n",
        "\n",
        "# 用BeautifulSoup解析資料\n",
        "from bs4 import BeautifulSoup\n",
        "soup = BeautifulSoup(res.text, 'lxml')\n",
        "\n",
        "# 設定domain\n",
        "domain = 'https://www.ptt.cc/'\n",
        "\n",
        "# 設定List\n",
        "creditcard = []\n",
        "\n",
        "# 解析並儲存每一列\n",
        "for tr in soup.select('.r-ent'):\n",
        "  if tr.select_one('.title a'):\n",
        "    row = {}\n",
        "    # 儲存標題\n",
        "    row['Title'] = tr.select_one('.title a').text\n",
        "    # 儲存連結\n",
        "    row['Link'] = domain + tr.select_one('.title a').get('href')\n",
        "    # 儲存日期\n",
        "    row['Date'] = tr.select_one('.date').text\n",
        "    # 儲存作者\n",
        "    row['Author'] = tr.select_one('.author').text\n",
        "    # 儲存每列資訊到List\n",
        "    creditcard.append(row)\n",
        "    #print(tr.select_one('.title a').text)\n",
        "    #print(domain + tr.select_one('.title a').get('href'))\n",
        "    #print(tr.select_one('.date').text)\n",
        "    #print(tr.select_one('.author').text)\n",
        "    #print('=========================================')\n",
        "\n",
        "# 用Pandas整理資料\n",
        "import pandas\n",
        "creditcard_df = pandas.DataFrame(creditcard)\n",
        "creditcard_df.head()"
      ],
      "execution_count": 75,
      "outputs": [
        {
          "output_type": "execute_result",
          "data": {
            "text/html": [
              "<div>\n",
              "<style scoped>\n",
              "    .dataframe tbody tr th:only-of-type {\n",
              "        vertical-align: middle;\n",
              "    }\n",
              "\n",
              "    .dataframe tbody tr th {\n",
              "        vertical-align: top;\n",
              "    }\n",
              "\n",
              "    .dataframe thead th {\n",
              "        text-align: right;\n",
              "    }\n",
              "</style>\n",
              "<table border=\"1\" class=\"dataframe\">\n",
              "  <thead>\n",
              "    <tr style=\"text-align: right;\">\n",
              "      <th></th>\n",
              "      <th>Title</th>\n",
              "      <th>Link</th>\n",
              "      <th>Date</th>\n",
              "      <th>Author</th>\n",
              "    </tr>\n",
              "  </thead>\n",
              "  <tbody>\n",
              "    <tr>\n",
              "      <th>0</th>\n",
              "      <td>[心得] 渣打現金回饋御璽卡 核卡</td>\n",
              "      <td>https://www.ptt.cc//bbs/creditcard/M.159455068...</td>\n",
              "      <td>7/12</td>\n",
              "      <td>bugerbite</td>\n",
              "    </tr>\n",
              "    <tr>\n",
              "      <th>1</th>\n",
              "      <td>[問題] 永豐幣倍卡實際刷卡金額？</td>\n",
              "      <td>https://www.ptt.cc//bbs/creditcard/M.159455360...</td>\n",
              "      <td>7/12</td>\n",
              "      <td>sunsky13579</td>\n",
              "    </tr>\n",
              "    <tr>\n",
              "      <th>2</th>\n",
              "      <td>[心得] 渣打現金回饋御璽卡  核卡</td>\n",
              "      <td>https://www.ptt.cc//bbs/creditcard/M.159456065...</td>\n",
              "      <td>7/12</td>\n",
              "      <td>a57081108</td>\n",
              "    </tr>\n",
              "    <tr>\n",
              "      <th>3</th>\n",
              "      <td>[問題] 停車費回饋排除</td>\n",
              "      <td>https://www.ptt.cc//bbs/creditcard/M.159456071...</td>\n",
              "      <td>7/12</td>\n",
              "      <td>du3045</td>\n",
              "    </tr>\n",
              "    <tr>\n",
              "      <th>4</th>\n",
              "      <td>[新聞] 振興三倍券選臺灣企銀就對</td>\n",
              "      <td>https://www.ptt.cc//bbs/creditcard/M.159456954...</td>\n",
              "      <td>7/12</td>\n",
              "      <td>hvariables</td>\n",
              "    </tr>\n",
              "  </tbody>\n",
              "</table>\n",
              "</div>"
            ],
            "text/plain": [
              "                Title  ...       Author\n",
              "0   [心得] 渣打現金回饋御璽卡 核卡  ...    bugerbite\n",
              "1   [問題] 永豐幣倍卡實際刷卡金額？  ...  sunsky13579\n",
              "2  [心得] 渣打現金回饋御璽卡  核卡  ...    a57081108\n",
              "3        [問題] 停車費回饋排除  ...       du3045\n",
              "4   [新聞] 振興三倍券選臺灣企銀就對  ...   hvariables\n",
              "\n",
              "[5 rows x 4 columns]"
            ]
          },
          "metadata": {
            "tags": []
          },
          "execution_count": 75
        }
      ]
    }
  ]
}